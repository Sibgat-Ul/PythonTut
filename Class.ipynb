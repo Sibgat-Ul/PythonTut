{
 "cells": [
  {
   "cell_type": "markdown",
   "source": [
    "### Class\n",
    "Class defines a 'structure' to create an object.\n",
    "Object is an instance of a class.\n",
    "\n",
    "Why?\n",
    "- To create a structure that can be used to create an object\n",
    "- To create an object that can be used to perform a task\n",
    "- A blueprint to create a set of data and functions"
   ],
   "metadata": {
    "collapsed": false
   },
   "id": "73b64d5b2d1166d7"
  },
  {
   "cell_type": "code",
   "execution_count": null,
   "outputs": [],
   "source": [
    "class Animal():\n",
    "    # the __init__ method is called when an object is created\n",
    "    def __init__(self, species, legs):\n",
    "        # the self parameter refers to the current instance of the class\n",
    "        # it is used to access variables that belong to the class\n",
    "        # these are known as \n",
    "        self.species = species \n",
    "        self.legs = legs \n",
    "        \n",
    "    def walk(self):\n",
    "        print(f'{self.species} is walking on {self.legs} legs')\n",
    "\n",
    "an_animal = Animal('Dog', 4)\n",
    "an_animal.walk()"
   ],
   "metadata": {
    "collapsed": false
   },
   "id": "60bde380956e79af"
  },
  {
   "cell_type": "code",
   "execution_count": null,
   "outputs": [],
   "source": [
    "class Human():\n",
    "    def __init__(self, name, age):\n",
    "        self.name = name\n",
    "        self.age = age\n",
    "        self.__secret = 'No one outside of this class can see this'\n",
    "        \n",
    "    def speak(self):\n",
    "        print(f'Hello, my name is {self.name} and I am {self.age} years old')\n",
    "\n",
    "    def __secret_method(self):\n",
    "        print(self.__secret)\n",
    "\n",
    "manush = Human('Manush', 25)\n",
    "manush.speak()"
   ],
   "metadata": {
    "collapsed": false
   },
   "id": "d1e2aa47319c0517"
  },
  {
   "cell_type": "code",
   "execution_count": null,
   "outputs": [],
   "source": [
    "## Private vs Public class variables\n",
    "print(an_animal.species)\n",
    "an_animal.species = 'Cat'\n",
    "print(an_animal.species)\n",
    "an_animal.walk()\n",
    "\n",
    "# manush.__secret \n",
    "# uncomment the previous line. that line will produce an error, private variables cannot be accessed outside the class.\n",
    "\n",
    "print(manush.name)\n",
    "manush.name = 'omanush'\n",
    "print(manush.name)"
   ],
   "metadata": {
    "collapsed": false
   },
   "id": "4d175c0f3feb85af"
  },
  {
   "cell_type": "markdown",
   "source": [
    "### OOP\n",
    "OOP is a programming paradigm that uses objects and classes in programming.\n",
    "\n",
    "- Encapsulation: The idea of bundling data and methods that work on that data within the class/object.\n",
    "\n",
    "- Abstraction: Defining a must-have interface/properties for a class/object. The implementation details are hidden from the user. \n",
    "\n",
    "- Inheritance: The idea of creating a new class from an existing class. The new class will inherit all the properties of the existing class.\n",
    "\n",
    "- Polymorphism: The idea of using a function for multiple forms."
   ],
   "metadata": {
    "collapsed": false
   },
   "id": "af0cae8a20b87489"
  },
  {
   "cell_type": "code",
   "execution_count": 9,
   "outputs": [
    {
     "name": "stdout",
     "output_type": "stream",
     "text": [
      "Manush\n",
      "25\n",
      "omanush\n",
      "26\n"
     ]
    }
   ],
   "source": [
    "# Encapsulation\n",
    "# Datas are hidden (Encapsulated) from the user\n",
    "# The user can only access the data through methods\n",
    "class Person():\n",
    "    def __init__(self, name, age):\n",
    "        self.__name = name\n",
    "        self.__age = age\n",
    "\n",
    "    def set_name(self, name):\n",
    "        self.__name = name\n",
    "    \n",
    "    def set_age(self, age):\n",
    "        self.__age = age\n",
    "    \n",
    "    def get_name(self):\n",
    "        return self.__name\n",
    "    \n",
    "    def get_age(self):\n",
    "        return self.__age\n",
    "\n",
    "person1 = Person('Manush', 25)\n",
    "print(person1.get_name())\n",
    "print(person1.get_age())\n",
    "person1.set_name('omanush')\n",
    "person1.set_age(26)\n",
    "print(person1.get_name())\n",
    "print(person1.get_age())"
   ],
   "metadata": {
    "collapsed": false,
    "ExecuteTime": {
     "end_time": "2024-01-30T13:31:57.965915773Z",
     "start_time": "2024-01-30T13:31:57.959108071Z"
    }
   },
   "id": "520834fba1c0a327"
  },
  {
   "cell_type": "code",
   "execution_count": 11,
   "outputs": [
    {
     "name": "stdout",
     "output_type": "stream",
     "text": [
      "Red Tesla Model S is driving\n",
      "Red Tesla Model S is stopping\n",
      "Horse is running\n",
      "Horse stopped\n"
     ]
    }
   ],
   "source": [
    "from overrides import override\n",
    "# Abstraction\n",
    "from abc import ABC, abstractmethod\n",
    "\n",
    "class Car(ABC):\n",
    "    def __init__(self, car_type, color, make, model):\n",
    "        self.type = car_type \n",
    "        self.color = color\n",
    "        self.make = make\n",
    "        self.model = model\n",
    "    \n",
    "    @abstractmethod  \n",
    "    def drive(self):\n",
    "        pass \n",
    "    \n",
    "    @abstractmethod\n",
    "    def stop(self):\n",
    "        pass\n",
    "\n",
    "class ElectricCar(Car):\n",
    "    def __init__(self, color, make, model):\n",
    "        super().__init__('Electric', color, make, model)\n",
    "    \n",
    "    @override\n",
    "    def drive(self):\n",
    "        print(f'{self.color} {self.make} {self.model} is driving')\n",
    "    \n",
    "    @override\n",
    "    def stop(self):\n",
    "        print(f'{self.color} {self.make} {self.model} is stopping')\n",
    "    \n",
    "    def roar(self):\n",
    "        print(f'{self.color} {self.make} {self.model} is roaring')\n",
    "\n",
    "class HorseCarriage(Car):\n",
    "    def __init__(self, color, make, model):\n",
    "        super().__init__('Horse', color, make, model)\n",
    "    \n",
    "    @override\n",
    "    def drive(self):\n",
    "        print(f'Horse is running')\n",
    "    \n",
    "    @override\n",
    "    def stop(self):\n",
    "        print(f'Horse stopped')\n",
    "    \n",
    "    @staticmethod\n",
    "    def roar(self):\n",
    "        print(f'Horse is roaring')\n",
    "        \n",
    "car1 = ElectricCar('Red', 'Tesla', 'Model S')\n",
    "horse_carriage = HorseCarriage('Black', 'Horse', 'Carriage')\n",
    "\n",
    "car1.drive()\n",
    "car1.stop()\n",
    "\n",
    "horse_carriage.drive()\n",
    "horse_carriage.stop()"
   ],
   "metadata": {
    "collapsed": false,
    "ExecuteTime": {
     "end_time": "2024-01-30T13:49:34.356834527Z",
     "start_time": "2024-01-30T13:49:34.312845768Z"
    }
   },
   "id": "5e3c0174fdc67c79"
  },
  {
   "cell_type": "markdown",
   "source": [],
   "metadata": {
    "collapsed": false
   },
   "id": "8df9ad6ae5ed77ae"
  },
  {
   "cell_type": "code",
   "execution_count": 7,
   "outputs": [
    {
     "name": "stdout",
     "output_type": "stream",
     "text": [
      "Dog is walking on 4 legs\n",
      "Dogu is barking\n"
     ]
    }
   ],
   "source": [
    "# Inheritance\n",
    "\n",
    "# Dog will have all the properties of Animal\n",
    "class Dog(Animal):\n",
    "    def __init__(self, legs, name):\n",
    "        super().__init__('Dog', legs)\n",
    "        self.name = name\n",
    "\n",
    "    def bark(self):\n",
    "        print(f'{self.name} is barking')\n",
    "\n",
    "dogu = Dog(4, 'Dogu')\n",
    "dogu.walk() # this method is inherited from Animal, Not defined in Dog\n",
    "dogu.bark()"
   ],
   "metadata": {
    "collapsed": false,
    "ExecuteTime": {
     "end_time": "2024-01-30T13:12:27.919310850Z",
     "start_time": "2024-01-30T13:12:27.862693940Z"
    }
   },
   "id": "e95a7433ec11d340"
  },
  {
   "cell_type": "code",
   "execution_count": null,
   "outputs": [],
   "source": [
    "# Polymorphism\n",
    "# The same method is used for different forms\n",
    "class Bird():\n",
    "    def __init__(self, name, cry):\n",
    "        self.name = name\n",
    "        self.cry = cry\n",
    "    \n",
    "    def fly(self):\n",
    "        print(f'{self.name} is flying')\n",
    "    \n",
    "    def cry(self):\n",
    "        print(f'{self.name} is crying {self.cry}')\n",
    "\n",
    "class ErenYeager():\n",
    "    def __init__(self, name, cry):\n",
    "        self.name = name\n",
    "        self.cry = 'TataKAW TATAKAW'\n",
    "    \n",
    "    def fly(self):\n",
    "        print(f'{self.name} is flying')\n",
    "    \n",
    "    def cry(self):\n",
    "        print(f'{self.name} is crying {self.cry}')"
   ],
   "metadata": {
    "collapsed": false
   },
   "id": "23b3165e1a893ff"
  }
 ],
 "metadata": {
  "kernelspec": {
   "display_name": "Python 3",
   "language": "python",
   "name": "python3"
  },
  "language_info": {
   "codemirror_mode": {
    "name": "ipython",
    "version": 2
   },
   "file_extension": ".py",
   "mimetype": "text/x-python",
   "name": "python",
   "nbconvert_exporter": "python",
   "pygments_lexer": "ipython2",
   "version": "2.7.6"
  }
 },
 "nbformat": 4,
 "nbformat_minor": 5
}
