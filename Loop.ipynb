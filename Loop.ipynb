{
 "cells": [
  {
   "cell_type": "markdown",
   "source": [
    "### Loops\n",
    "Repeatedly executes a block of code/iterate over a sequence/collection/range of data\n",
    "\n",
    "**Why?**\n",
    "- If a code block needs to be repeated"
   ],
   "metadata": {
    "collapsed": false
   },
   "id": "11d0351dbbe50707"
  },
  {
   "cell_type": "code",
   "execution_count": 7,
   "outputs": [
    {
     "name": "stdout",
     "output_type": "stream",
     "text": [
      "loop: 1\n",
      "Mango\n",
      "Banana\n",
      "Apple\n",
      "loop: 2\n",
      "1\n",
      "2\n",
      "3\n",
      "4\n",
      "5\n",
      "6\n",
      "7\n",
      "8\n",
      "9\n",
      "loop: 3\n",
      "0\n",
      "1\n",
      "2\n",
      "3\n",
      "4\n",
      "5\n",
      "6\n",
      "7\n",
      "8\n",
      "9\n"
     ]
    }
   ],
   "source": [
    "# For loops\n",
    "# Iterate over a list\n",
    "fruit_collection = ['Mango', 'Banana', 'Apple']\n",
    "\n",
    "print('loop: 1')\n",
    "for fruit in fruit_collection: ## fruit is a variable, for is iterating over the collection\n",
    "    print(fruit) \n",
    "    \n",
    "# Iterate over a range of numbers\n",
    "print('loop: 2')\n",
    "for number in range(1, 10): # range is a function that returns a sequence of numbers\n",
    "    print(number)\n",
    "    \n",
    "print('loop: 3')\n",
    "# Or,\n",
    "for number in range(10): # 10 can be replaced with any number\n",
    "    print(number)"
   ],
   "metadata": {
    "collapsed": false,
    "ExecuteTime": {
     "end_time": "2024-01-30T17:03:34.786629040Z",
     "start_time": "2024-01-30T17:03:34.768383499Z"
    }
   },
   "id": "732c80c799ebbba0"
  },
  {
   "cell_type": "code",
   "execution_count": 6,
   "outputs": [
    {
     "name": "stdout",
     "output_type": "stream",
     "text": [
      "4\n",
      "5\n",
      "6\n",
      "7\n",
      "8\n",
      "9\n"
     ]
    }
   ],
   "source": [
    "# While loops\n",
    "# Iterate until a condition is met\n",
    "number = 4 \n",
    "while number < 10:\n",
    "    print(number)\n",
    "    number += 1 # same as number = number + 1"
   ],
   "metadata": {
    "collapsed": false,
    "ExecuteTime": {
     "end_time": "2024-01-30T16:59:37.902466805Z",
     "start_time": "2024-01-30T16:59:37.890263704Z"
    }
   },
   "id": "45edf8fd946cbadd"
  },
  {
   "cell_type": "code",
   "execution_count": null,
   "outputs": [],
   "source": [
    "# While loops with break\n",
    "number = 1\n",
    "while True:\n",
    "    print(number)\n",
    "    number += 1\n",
    "    if number > 10:\n",
    "        break # Break statement breaks out of the loop"
   ],
   "metadata": {
    "collapsed": false
   },
   "id": "3b3dca1caee53020"
  },
  {
   "cell_type": "code",
   "execution_count": null,
   "outputs": [],
   "source": [
    "# While loop implementation of for loop\n",
    "fruit_collection = ['Mango', 'Banana', 'Apple']\n",
    "index = 0\n",
    "while index < len(fruit_collection):\n",
    "    print(fruit_collection[index])\n",
    "    index += 1\n",
    "# Do for loop and while loop do the same thing?\n",
    "# Answer: Here"
   ],
   "metadata": {
    "collapsed": false
   },
   "id": "593ff1231d02d959"
  },
  {
   "cell_type": "markdown",
   "source": [
    "### Make a for loop implementation of while loop below:"
   ],
   "metadata": {
    "collapsed": false
   },
   "id": "287f79ece0b19814"
  },
  {
   "cell_type": "code",
   "execution_count": null,
   "outputs": [],
   "source": [
    "# Your code here"
   ],
   "metadata": {
    "collapsed": false
   },
   "id": "e04ec92715bad479"
  },
  {
   "cell_type": "code",
   "execution_count": null,
   "outputs": [],
   "source": [
    "# For loops with break\n",
    "for number in range(1, 10):\n",
    "    print(number)\n",
    "    if number == 5:\n",
    "        break"
   ],
   "metadata": {
    "collapsed": false
   },
   "id": "3f7118699978cfe3"
  },
  {
   "cell_type": "code",
   "execution_count": 12,
   "outputs": [
    {
     "name": "stdout",
     "output_type": "stream",
     "text": [
      "1: before continue\n",
      "1: continue\n",
      "1\n",
      "2: before continue\n",
      "2: continue\n",
      "2\n",
      "3: before continue\n",
      "3: continue\n",
      "3\n",
      "4: before continue\n",
      "4: continue\n",
      "4\n",
      "5: before continue\n",
      "6: before continue\n",
      "6: continue\n",
      "6\n",
      "7: before continue\n",
      "8: before continue\n",
      "8: continue\n",
      "8\n",
      "9: before continue\n",
      "9: continue\n",
      "9\n"
     ]
    }
   ],
   "source": [
    "# For loops with continue\n",
    "for number in range(1, 10):\n",
    "    # this statement means, if number is 5 and 7, skip the current iteration\n",
    "    print(f'{number}: before continue')\n",
    "    \n",
    "    if number == 5 or number == 7:\n",
    "        continue # Continue statement skips the current iteration\n",
    "        \n",
    "    print(f'{number}: after continue')\n",
    "    print(number)"
   ],
   "metadata": {
    "collapsed": false,
    "ExecuteTime": {
     "end_time": "2024-01-30T17:13:03.745678396Z",
     "start_time": "2024-01-30T17:13:03.683090121Z"
    }
   },
   "id": "b067d19f60895250"
  },
  {
   "cell_type": "code",
   "execution_count": 15,
   "outputs": [
    {
     "name": "stdout",
     "output_type": "stream",
     "text": [
      "1 a\n",
      "1 b\n",
      "1 c\n",
      "2 a\n",
      "2 b\n",
      "3 a\n",
      "3 b\n",
      "3 c\n",
      "4 a\n",
      "4 b\n",
      "4 c\n",
      "5 a\n",
      "5 b\n",
      "5 c\n"
     ]
    }
   ],
   "source": [
    "# Nested loops\n",
    "for number in range(1, 6):\n",
    "    # First loop\n",
    "    for letter in ['a', 'b', 'c']:\n",
    "        # Second loop\n",
    "        if number == 2 and letter == 'c':\n",
    "            continue\n",
    "        print(number, letter)"
   ],
   "metadata": {
    "collapsed": false,
    "ExecuteTime": {
     "end_time": "2024-01-30T17:20:05.029272182Z",
     "start_time": "2024-01-30T17:20:04.961872927Z"
    }
   },
   "id": "b3e0cdd2835d5a76"
  },
  {
   "cell_type": "code",
   "execution_count": null,
   "outputs": [],
   "source": [],
   "metadata": {
    "collapsed": false
   },
   "id": "e27827f123a4df5"
  }
 ],
 "metadata": {
  "kernelspec": {
   "display_name": "Python 3",
   "language": "python",
   "name": "python3"
  },
  "language_info": {
   "codemirror_mode": {
    "name": "ipython",
    "version": 2
   },
   "file_extension": ".py",
   "mimetype": "text/x-python",
   "name": "python",
   "nbconvert_exporter": "python",
   "pygments_lexer": "ipython2",
   "version": "2.7.6"
  }
 },
 "nbformat": 4,
 "nbformat_minor": 5
}
