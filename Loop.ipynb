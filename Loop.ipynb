{
 "cells": [
  {
   "cell_type": "markdown",
   "source": [
    "### Loops\n",
    "Repeatedly executes a block of code/iterate over a sequence/collection of data\n",
    "\n",
    "**Why?**\n",
    "- If a code block needs to be repeated"
   ],
   "metadata": {
    "collapsed": false
   },
   "id": "11d0351dbbe50707"
  },
  {
   "cell_type": "code",
   "execution_count": null,
   "outputs": [],
   "source": [
    "# For loops\n",
    "# Iterate over a list\n",
    "fruit_collection = ['Mango', 'Banana', 'Apple']\n",
    "\n",
    "for fruit in fruit_collection: ## fruit is a variable, for is iterating over the collection\n",
    "    print(fruit) \n",
    "    \n",
    "# Iterate over a range of numbers\n",
    "for number in range(1, 10): # range is a function that returns a sequence of numbers\n",
    "    print(number)\n",
    "# Or,\n",
    "for number in range(10): # 10 can be replaced with any number\n",
    "    print(number)"
   ],
   "metadata": {
    "collapsed": false
   },
   "id": "732c80c799ebbba0"
  },
  {
   "cell_type": "code",
   "execution_count": null,
   "outputs": [],
   "source": [
    "# While loops\n",
    "# Iterate until a condition is met\n",
    "number = 1\n",
    "while number < 10:\n",
    "    print(number)\n",
    "    number += 1 # same as number = number + 1"
   ],
   "metadata": {
    "collapsed": false
   },
   "id": "45edf8fd946cbadd"
  },
  {
   "cell_type": "code",
   "execution_count": null,
   "outputs": [],
   "source": [
    "# While loops with break\n",
    "number = 1\n",
    "while True:\n",
    "    print(number)\n",
    "    number += 1\n",
    "    if number > 10:\n",
    "        break # Break statement breaks out of the loop"
   ],
   "metadata": {
    "collapsed": false
   },
   "id": "3b3dca1caee53020"
  },
  {
   "cell_type": "code",
   "execution_count": null,
   "outputs": [],
   "source": [
    "# While loop implementation of for loop\n",
    "fruit_collection = ['Mango', 'Banana', 'Apple']\n",
    "index = 0\n",
    "while index < len(fruit_collection):\n",
    "    print(fruit_collection[index])\n",
    "    index += 1\n",
    "# Do for loop and while loop do the same thing?\n",
    "# Answer: Here"
   ],
   "metadata": {
    "collapsed": false
   },
   "id": "593ff1231d02d959"
  },
  {
   "cell_type": "markdown",
   "source": [
    "# Make a for loop implementation of while loop"
   ],
   "metadata": {
    "collapsed": false
   },
   "id": "287f79ece0b19814"
  },
  {
   "cell_type": "code",
   "execution_count": null,
   "outputs": [],
   "source": [
    "# Your code here"
   ],
   "metadata": {
    "collapsed": false
   },
   "id": "e04ec92715bad479"
  },
  {
   "cell_type": "code",
   "execution_count": null,
   "outputs": [],
   "source": [
    "# For loops with break\n",
    "for number in range(1, 10):\n",
    "    print(number)\n",
    "    if number == 5:\n",
    "        break"
   ],
   "metadata": {
    "collapsed": false
   },
   "id": "3f7118699978cfe3"
  },
  {
   "cell_type": "code",
   "execution_count": null,
   "outputs": [],
   "source": [
    "# For loops with continue\n",
    "for number in range(1, 10):\n",
    "    if number == 5:\n",
    "        continue # Continue statement skips the current iteration\n",
    "    print(number)"
   ],
   "metadata": {
    "collapsed": false
   },
   "id": "b067d19f60895250"
  },
  {
   "cell_type": "code",
   "execution_count": null,
   "outputs": [],
   "source": [
    "# Nested loops\n",
    "for number in range(1, 4):\n",
    "    for letter in ['a', 'b', 'c']:\n",
    "        print(number, letter)"
   ],
   "metadata": {
    "collapsed": false
   },
   "id": "b3e0cdd2835d5a76"
  }
 ],
 "metadata": {
  "kernelspec": {
   "display_name": "Python 3",
   "language": "python",
   "name": "python3"
  },
  "language_info": {
   "codemirror_mode": {
    "name": "ipython",
    "version": 2
   },
   "file_extension": ".py",
   "mimetype": "text/x-python",
   "name": "python",
   "nbconvert_exporter": "python",
   "pygments_lexer": "ipython2",
   "version": "2.7.6"
  }
 },
 "nbformat": 4,
 "nbformat_minor": 5
}
