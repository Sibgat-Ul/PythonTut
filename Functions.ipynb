{
 "cells": [
  {
   "cell_type": "markdown",
   "source": [
    "### Functions\n",
    "\n",
    "Allows to make a reusable block of code to execute certain actions.\n",
    "\n",
    "Why? \n",
    "- Reduce repetitions in code\n",
    "- Saves time, cleaner codes\n",
    "\n",
    "Syntax:\n",
    "\n",
    "```\n",
    "def function_name(parameters):          \n",
    "    ***Do something \n",
    "    return (optional)    \n",
    "```\n",
    "***if return statement is stated, the function returns the instructed data and terminates***\n",
    "\n",
    "***if return statement is not stated, the function returns nothing (None) amd terminates***\n",
    "    "
   ],
   "metadata": {
    "collapsed": false
   },
   "id": "4e9128249845c2ec"
  },
  {
   "cell_type": "code",
   "execution_count": 14,
   "id": "initial_id",
   "metadata": {
    "collapsed": true,
    "ExecuteTime": {
     "end_time": "2024-01-30T17:54:58.968293832Z",
     "start_time": "2024-01-30T17:54:58.955703087Z"
    }
   },
   "outputs": [],
   "source": [
    "import random\n",
    "\n",
    "def juiceBot(fruits, jar):\n",
    "    \"\"\"\n",
    "    :param fruits: list of fruit\n",
    "    :param jar: list of fruit slices\n",
    "    :return: figure it out\n",
    "    \"\"\"\n",
    "    for fruit in fruits:\n",
    "        slice(fruit, jar)\n",
    "    \n",
    "    # blend(jar)\n",
    "    # print(blend(jar))\n",
    "    # return blend(jar)\n",
    "\n",
    "def slice(fruit, jar):\n",
    "    \"\"\"\n",
    "        :param fruit: list\n",
    "        :param jar: list\n",
    "        :return: why is it absent? figure it out \n",
    "    \"\"\"\n",
    "    # slices = [slice for slice in fruit]\n",
    "    ### Alternative\n",
    "    \n",
    "    slices = []\n",
    "    for slice in fruit:\n",
    "        slices.append(slice)\n",
    "        \n",
    "    for slice in slices:\n",
    "        jar.append(slice)\n",
    "    \n",
    "    \n",
    "    # slices_set = set(jar)\n",
    "    # slices_set.union(jar, slices)\n",
    "    # jar = list(slices_set)\n",
    "\n",
    "def blend(jar):\n",
    "    \"\"\"\n",
    "        :param jar: \n",
    "        :return glass:  \n",
    "    \"\"\"\n",
    "    glass = []\n",
    "    random_num_list = []\n",
    "    slices_in_jar = slicesInJar = len(jar)\n",
    "\n",
    "    for useless_variable in range(slicesInJar):\n",
    "        random_slice = random.randint(0, slicesInJar-1)\n",
    "        \n",
    "        if random_slice not in random_num_list:\n",
    "            juice = jar[random_slice]\n",
    "            glass.append(juice)\n",
    "            \n",
    "    return glass\n"
   ]
  },
  {
   "cell_type": "code",
   "execution_count": 15,
   "outputs": [
    {
     "name": "stdout",
     "output_type": "stream",
     "text": [
      "None\n"
     ]
    }
   ],
   "source": [
    "jar = []\n",
    "fruits = ['Mango', 'Milk', 'Chocolate', 'Banana']\n",
    "\n",
    "my_juice = juiceBot(fruits, jar)\n",
    "print(my_juice) "
   ],
   "metadata": {
    "collapsed": false,
    "ExecuteTime": {
     "end_time": "2024-01-30T17:54:59.018842061Z",
     "start_time": "2024-01-30T17:54:58.964328233Z"
    }
   },
   "id": "6f06edecd2fb5de5"
  },
  {
   "cell_type": "markdown",
   "source": [
    "***Why does the previous output has 'None'? How do you get a legitimate value?***\n",
    "\n",
    "Note: None means Null (no values were returned, thus None)\n",
    "\n",
    "Ans:"
   ],
   "metadata": {
    "collapsed": false
   },
   "id": "b91e639ac8e6af5e"
  },
  {
   "cell_type": "markdown",
   "source": [
    "### Recursion\n",
    "What?\n",
    "- A function calling itself\n",
    "- maybe think of it as talking with/having with yourself about a problem till you find the solution :P\n",
    "- Works like a loop till it fulfills the given task\n",
    "\n",
    "Why?\n",
    "- in some cases, code makes (while reading) more sense than an iterative approach\n",
    "- Less code, elegant solutions\n",
    "- Mostly used in Trees and Graph Data Structures"
   ],
   "metadata": {
    "collapsed": false
   },
   "id": "485079f9d9ddef91"
  },
  {
   "cell_type": "code",
   "execution_count": 16,
   "outputs": [],
   "source": [
    "def makeTwenty(n, i):\n",
    "    sum = n+i # These are the task\n",
    "    if sum == 20: # This is the Task\n",
    "        return sum # This is the solution you are looking for\n",
    "    return makeTwenty(sum, i) # Think till you find your solution"
   ],
   "metadata": {
    "collapsed": false,
    "ExecuteTime": {
     "end_time": "2024-01-30T17:54:59.019100980Z",
     "start_time": "2024-01-30T17:54:59.004667544Z"
    }
   },
   "id": "cfdb2f5636d38c26"
  },
  {
   "cell_type": "code",
   "execution_count": 17,
   "outputs": [
    {
     "name": "stdout",
     "output_type": "stream",
     "text": [
      "20\n"
     ]
    }
   ],
   "source": [
    "n = 10\n",
    "i = 1\n",
    "\n",
    "print(makeTwenty(n, i))"
   ],
   "metadata": {
    "collapsed": false,
    "ExecuteTime": {
     "end_time": "2024-01-30T17:54:59.019343229Z",
     "start_time": "2024-01-30T17:54:59.004891903Z"
    }
   },
   "id": "b49d51313fa7750a"
  },
  {
   "cell_type": "markdown",
   "source": [
    "Make 3 recursive function, add explanation on every line"
   ],
   "metadata": {
    "collapsed": false
   },
   "id": "52d8d74cf8f7a66a"
  },
  {
   "cell_type": "code",
   "execution_count": 18,
   "outputs": [
    {
     "ename": "IndentationError",
     "evalue": "expected an indented block after function definition on line 2 (423175295.py, line 4)",
     "output_type": "error",
     "traceback": [
      "\u001B[0;36m  Cell \u001B[0;32mIn[18], line 4\u001B[0;36m\u001B[0m\n\u001B[0;31m    def recursionTwo():\u001B[0m\n\u001B[0m    ^\u001B[0m\n\u001B[0;31mIndentationError\u001B[0m\u001B[0;31m:\u001B[0m expected an indented block after function definition on line 2\n"
     ]
    }
   ],
   "source": [
    "# Your Code\n",
    "def recursionOne():\n",
    "\n",
    "def recursionTwo():\n",
    "    \n",
    "def recursionThree():"
   ],
   "metadata": {
    "collapsed": false,
    "ExecuteTime": {
     "end_time": "2024-01-30T17:54:59.019661367Z",
     "start_time": "2024-01-30T17:54:59.005117242Z"
    }
   },
   "id": "3152a1111b882f14"
  }
 ],
 "metadata": {
  "kernelspec": {
   "display_name": "Python 3",
   "language": "python",
   "name": "python3"
  },
  "language_info": {
   "codemirror_mode": {
    "name": "ipython",
    "version": 2
   },
   "file_extension": ".py",
   "mimetype": "text/x-python",
   "name": "python",
   "nbconvert_exporter": "python",
   "pygments_lexer": "ipython2",
   "version": "2.7.6"
  }
 },
 "nbformat": 4,
 "nbformat_minor": 5
}
