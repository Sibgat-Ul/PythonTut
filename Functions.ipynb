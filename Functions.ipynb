{
 "cells": [
  {
   "cell_type": "markdown",
   "source": [
    "### Functions\n",
    "\n",
    "What?\n",
    "- A block of code to execute certain actions\n",
    "- Reusable \n",
    "\n",
    "Why? \n",
    "- Reduce repetitions in code\n",
    "- Saves time, cleaner codes\n",
    "\n",
    "Syntax:\n",
    "\n",
    "```\n",
    "def function(parameters):          \n",
    "    ***Do something \n",
    "    return (optional)    \n",
    "```\n",
    "***if return statement is stated, the function returns the instructed data and terminates***\n",
    "\n",
    "***if return statement is not stated, the function returns nothing (None) amd terminates***\n",
    "    "
   ],
   "metadata": {
    "collapsed": false
   },
   "id": "4e9128249845c2ec"
  },
  {
   "cell_type": "code",
   "execution_count": 57,
   "id": "initial_id",
   "metadata": {
    "collapsed": true,
    "ExecuteTime": {
     "end_time": "2024-01-30T08:02:14.926293896Z",
     "start_time": "2024-01-30T08:02:14.865462681Z"
    }
   },
   "outputs": [],
   "source": [
    "import random\n",
    "\n",
    "jar = []\n",
    "\n",
    "def juiceBot(fruits, jar=jar):\n",
    "    \"\"\"\n",
    "    :param fruits: list of fruit\n",
    "    :param jar: list of fruit slices\n",
    "    :return: figure it out\n",
    "    \"\"\"\n",
    "    for fruit in fruits:\n",
    "        slice(fruit, jar)\n",
    "    \n",
    "    # blend(jar)\n",
    "    print(blend(jar))\n",
    "    # return blend(jar)\n",
    "\n",
    "def slice(fruit, jar):\n",
    "    \"\"\"\n",
    "        :param fruit: list\n",
    "        :param jar: list\n",
    "        :return: why is it absent? figure it out \n",
    "    \"\"\"\n",
    "    slices = [slice for slice in fruit]\n",
    "    for slice in slices:\n",
    "        jar.append(slice)\n",
    "    \n",
    "    \n",
    "    # slices_set = set(jar)\n",
    "    # slices_set.union(jar, slices)\n",
    "    # jar = list(slices_set)\n",
    "\n",
    "def blend(jar):\n",
    "    \"\"\"\n",
    "        :param jar: \n",
    "        :return glass:  \n",
    "    \"\"\"\n",
    "    glass = []\n",
    "    random_num_list = []\n",
    "    slices_in_jar = slicesInJar = len(jar)\n",
    "\n",
    "    for _ in range(slicesInJar):\n",
    "        random_slice = random.randint(1, slicesInJar-1)\n",
    "        if random_slice not in random_num_list:\n",
    "            glass.append(jar[random_slice])\n",
    "    return glass\n"
   ]
  },
  {
   "cell_type": "code",
   "execution_count": 58,
   "outputs": [
    {
     "name": "stdout",
     "output_type": "stream",
     "text": [
      "['l', 'i', 'i', 'l', 'a', 'c', 'i', 'B', 'a', 'a', 'n', 'a', 'l', 'a', 'a', 'a', 'o', 'C', 'o', 'M', 'n', 'k', 'c', 'i']\n",
      "None\n"
     ]
    }
   ],
   "source": [
    "my_juice = juiceBot(['Mango', 'Milk', 'Chocolate', 'Banana'])\n",
    "print(my_juice) "
   ],
   "metadata": {
    "collapsed": false,
    "ExecuteTime": {
     "end_time": "2024-01-30T08:02:14.984189295Z",
     "start_time": "2024-01-30T08:02:14.910621091Z"
    }
   },
   "id": "c5766ce4151c1a39"
  },
  {
   "cell_type": "markdown",
   "source": [
    "***Why does the previous output has 'None'? How do you get a legitimate value?***\n",
    "\n",
    "Note: None means Null (no values were returned, thus None)\n",
    "\n",
    "Ans:"
   ],
   "metadata": {
    "collapsed": false
   },
   "id": "b91e639ac8e6af5e"
  },
  {
   "cell_type": "markdown",
   "source": [
    "### Recursion\n",
    "What?\n",
    "- A function calling itself\n",
    "- maybe think of it as talking with/having with yourself about a problem till you find the solution :P\n",
    "- Works like a loop till it fulfills the given task\n",
    "\n",
    "Why?\n",
    "- in some cases, code makes (while reading) more sense than an iterative approach\n",
    "- Less code, elegant solutions\n",
    "- Mostly used in Trees and Graph Data Structures"
   ],
   "metadata": {
    "collapsed": false
   },
   "id": "485079f9d9ddef91"
  },
  {
   "cell_type": "code",
   "execution_count": 69,
   "outputs": [],
   "source": [
    "def makeTwenty(n, i):\n",
    "    sum = n+i # These are the task\n",
    "    if sum == 20: # This is the Task\n",
    "        return sum # This is the solution you are looking for\n",
    "    return makeTwenty(sum, i) # Think till you find your solution"
   ],
   "metadata": {
    "collapsed": false,
    "ExecuteTime": {
     "end_time": "2024-01-30T09:03:12.123665292Z",
     "start_time": "2024-01-30T09:03:12.082747027Z"
    }
   },
   "id": "cfdb2f5636d38c26"
  },
  {
   "cell_type": "code",
   "execution_count": 70,
   "outputs": [
    {
     "name": "stdout",
     "output_type": "stream",
     "text": [
      "20\n"
     ]
    }
   ],
   "source": [
    "n = 10\n",
    "i = 1\n",
    "\n",
    "print(makeTwenty(n, i))"
   ],
   "metadata": {
    "collapsed": false,
    "ExecuteTime": {
     "end_time": "2024-01-30T09:03:12.641642815Z",
     "start_time": "2024-01-30T09:03:12.638565186Z"
    }
   },
   "id": "b49d51313fa7750a"
  },
  {
   "cell_type": "markdown",
   "source": [
    "Make 3 recursive function, add explanation on every line"
   ],
   "metadata": {
    "collapsed": false
   },
   "id": "52d8d74cf8f7a66a"
  },
  {
   "cell_type": "code",
   "execution_count": null,
   "outputs": [],
   "source": [
    "# Your Code\n",
    "def recursionOne():\n",
    "\n",
    "def recursionTwo():\n",
    "    \n",
    "def recursionThree():"
   ],
   "metadata": {
    "collapsed": false
   },
   "id": "3152a1111b882f14"
  }
 ],
 "metadata": {
  "kernelspec": {
   "display_name": "Python 3",
   "language": "python",
   "name": "python3"
  },
  "language_info": {
   "codemirror_mode": {
    "name": "ipython",
    "version": 2
   },
   "file_extension": ".py",
   "mimetype": "text/x-python",
   "name": "python",
   "nbconvert_exporter": "python",
   "pygments_lexer": "ipython2",
   "version": "2.7.6"
  }
 },
 "nbformat": 4,
 "nbformat_minor": 5
}
