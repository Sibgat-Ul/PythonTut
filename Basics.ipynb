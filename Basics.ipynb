{
 "cells": [
  {
   "cell_type": "markdown",
   "source": [
    "### Basics of Python\n",
    "\n",
    "Python is a high-level, interpreted, interactive and object-oriented scripting language. Python is designed to be highly readable. It uses English keywords frequently where as other languages use punctuation, and it has fewer syntactical constructions than other languages."
   ],
   "metadata": {
    "collapsed": false
   },
   "id": "cd46133449ef3a17"
  },
  {
   "cell_type": "markdown",
   "source": [
    "### Variables and Data Types\n",
    "Python has five standard data types −\n",
    "\n",
    "- Numbers : int, float, complex\n",
    "- String : str\n",
    "- Sequence Types : list, tuple, range\n",
    "- Mapping Type : dict\n",
    "- Boolean : bool (True, False)  \n",
    "- Set : set, frozenset\n",
    "\n",
    "***Note: Indexes always starts with 0***\n",
    "***You must indent the python code blocks (check functions, loops and class sections)***"
   ],
   "metadata": {
    "collapsed": false
   },
   "id": "7f50f7de3778657f"
  },
  {
   "cell_type": "code",
   "outputs": [],
   "source": [
    "### Variables\n",
    "# A variable is a location in memory used to store some data (value).\n",
    "# They are given unique names to differentiate between different memory locations. The rules for writing a variable name is same as the rules for writing identifiers in Python.\n",
    "\n",
    "print('====================')\n",
    "print('Numbers Example')\n",
    "print('====================')\n",
    "# Numbers\n",
    "a = 5\n",
    "b = 10.2\n",
    "c = a + b\n",
    "print(f'sum of {a}, {b}:', c)\n",
    "print()\n",
    "# a, b, c are variables, 5, 10 are values.\n"
   ],
   "metadata": {
    "collapsed": false
   },
   "id": "7c417d46024a22d9"
  },
  {
   "cell_type": "markdown",
   "source": [
    "\n",
    " **String:** Strings are basically a collection (list) of characters. They are immutable, meaning that once a string is created, it cannot be changed(unlike List). Example: \"Hello World\", here characters H, e, l, l, o, W, o, r, l, d are stored in a string.\n"
   ],
   "metadata": {
    "collapsed": false
   },
   "id": "5e79aaa391307a8c"
  },
  {
   "cell_type": "code",
   "outputs": [
    {
     "name": "stdout",
     "output_type": "stream",
     "text": [
      "====================\n",
      "String Example\n",
      "====================\n",
      "John Doe\n",
      "J\n",
      "hn \n",
      "hn Doe\n"
     ]
    }
   ],
   "source": [
    "print('====================')\n",
    "print('String Example')\n",
    "print('====================')\n",
    "\n",
    "name = \"John Doe\"\n",
    "print(name)\n",
    "print(name[0]) # will print 0th character of the string\n",
    "print(name[2:5]) # will print characters from 2 to 4\n",
    "print(name[2:]) # will print characters from 2 to end\n",
    "print()"
   ],
   "metadata": {
    "collapsed": false,
    "ExecuteTime": {
     "end_time": "2024-02-23T04:01:01.212781Z",
     "start_time": "2024-02-23T04:01:01.209045Z"
    }
   },
   "id": "80e91476510a2b61",
   "execution_count": 14
  },
  {
   "cell_type": "code",
   "outputs": [
    {
     "name": "stdout",
     "output_type": "stream",
     "text": [
      "====================\n",
      "List Example\n",
      "====================\n",
      "Whole list: ['efgh', 786, 1000, 'john', 70.2]\n",
      "First element: efgh\n",
      "2nd to 3rd element of list [786, 1000]\n",
      "\n",
      "After adding new element: ['efgh', 786, 1000, 'john', 70.2, 'new element']\n",
      "\n",
      "After removing john: ['efgh', 786, 1000, 70.2, 'new element']\n",
      "\n",
      "After removing last element: ['efgh', 786, 1000, 70.2]\n",
      "\n",
      "After removing element at index 2: ['efgh', 786, 70.2]\n",
      "\n",
      "After removing all elements: []\n"
     ]
    }
   ],
   "source": [
    "print('====================')\n",
    "print('List Example')\n",
    "print('====================')\n",
    "\n",
    "# List: Collection of items which is ordered and changeable. Allows duplicate members.\n",
    "\n",
    "list = [ 'abcd', 786 , 2.23, 'john', 70.2 ]\n",
    "tinylist = [123, 'john']\n",
    "\n",
    "# change the value of list\n",
    "list[0] = 'efgh' # valid syntax\n",
    "list[2] = 1000 # valid syntax\n",
    "\n",
    "print('Whole list:', list)\n",
    "print('First element:', list[0]) \n",
    "print('2nd to 3rd element of list', list[1:3])\n",
    "# here, index 1 is the second element and index 3 is the fourth element\n",
    "# in case of list[1:3], it will print elements from index 1 to 2\n",
    "# format of list[start_index:end_index+1]\n",
    "# if you want to access 3rd(index: 2) and 4th(index: 3) element then list[2:4], you need to put end_index+1, which is 3+1\n",
    "\n",
    "# Add new element to the list\n",
    "list.append('new element')\n",
    "print('\\nAfter adding new element:', list)\n",
    "\n",
    "# Remove an element from the list\n",
    "list.remove('john')\n",
    "print('\\nAfter removing john:', list)\n",
    "\n",
    "# Remove last element from the list\n",
    "list.pop()\n",
    "print('\\nAfter removing last element:', list)\n",
    "\n",
    "# Remove element at index 2\n",
    "list.pop(2)\n",
    "print('\\nAfter removing element at index 2:', list)\n",
    "\n",
    "# Remove all elements from the list\n",
    "list.clear()\n",
    "print('\\nAfter removing all elements:', list)\n"
   ],
   "metadata": {
    "collapsed": false,
    "ExecuteTime": {
     "end_time": "2024-02-23T04:06:50.805465Z",
     "start_time": "2024-02-23T04:06:50.801572Z"
    }
   },
   "id": "c4aa64b35403cb78",
   "execution_count": 17
  },
  {
   "cell_type": "markdown",
   "source": [
    "\n",
    "**Tuple:** Collection of items which is ordered and unchangeable. Allows duplicate members.\n"
   ],
   "metadata": {
    "collapsed": false
   },
   "id": "d42f2d5a95a88aad"
  },
  {
   "cell_type": "code",
   "outputs": [],
   "source": [
    "print('====================')\n",
    "print('Tuple Example')\n",
    "print('====================')\n",
    "\n",
    "\n",
    "tuple = ( 'abcd', 786 , 2.23, 'john', 70.2  )\n",
    "tinytuple = (123, 'john')\n",
    "print(tuple)\n",
    "\n",
    "# Uncomment the below lines to see the error\n",
    "# print('====================')\n",
    "# print('Tuple vs List')\n",
    "# print('====================')\n",
    "# # List is mutable, Tuple is immutable\n",
    "# \n",
    "# list = [9, 1, 2, 3, 4]\n",
    "# list[0] = 10 # valid syntax\n",
    "# \n",
    "# tuple = (9, 1, 2, 3, 4)\n",
    "# tuple[0] = 10 # invalid syntax"
   ],
   "metadata": {
    "collapsed": false
   },
   "id": "adab1150280c0fb2"
  },
  {
   "cell_type": "markdown",
   "source": [
    "**Dictionary:** It is a collection of key-value pairs. In Python, dictionaries are defined within braces {} with each item being a pair in the form key:value. Key and value can be of any type."
   ],
   "metadata": {
    "collapsed": false
   },
   "id": "e573589640b9fc5"
  },
  {
   "cell_type": "code",
   "outputs": [
    {
     "name": "stdout",
     "output_type": "stream",
     "text": [
      "====================\n",
      "Dictionary Example\n",
      "====================\n",
      "{'name': 'John', 'age': 25, 'profession': 'Student'}\n",
      "John\n",
      "25\n",
      "Student\n",
      "\n",
      "After adding city\n",
      "{'name': 'John', 'age': 25, 'profession': 'Student', 'city': 'New York'}\n",
      "\n",
      "After updating age\n",
      "{'name': 'John', 'age': 26, 'profession': 'Student', 'city': 'New York'}\n",
      "\n",
      "After deleting profession\n",
      "{'name': 'John', 'age': 26, 'city': 'New York'}\n"
     ]
    }
   ],
   "source": [
    "# Format of dictionary,\n",
    "# name_of_dict = {key1: value1, key2: value2, key3: value3, ...}\n",
    "# Access the value using key\n",
    "# name_of_dict[key1]\n",
    "\n",
    "print('====================')\n",
    "print('Dictionary Example')\n",
    "print('====================')\n",
    "\n",
    "a_dict = {'name': 'John', 'age': 25, 'profession': 'Student'}\n",
    "print(a_dict)\n",
    "print(a_dict['name'])\n",
    "print(a_dict['age'])\n",
    "print(a_dict['profession'])\n",
    "\n",
    "# Add new key-value pair\n",
    "print('\\nAfter adding city')\n",
    "a_dict['city'] = 'New York'\n",
    "print(a_dict)\n",
    "\n",
    "# Update the value of a key\n",
    "print('\\nAfter updating age')\n",
    "a_dict['age'] = 26\n",
    "print(a_dict)\n",
    "\n",
    "# Delete a key-value pair\n",
    "print('\\nAfter deleting profession')\n",
    "del a_dict['profession']\n",
    "print(a_dict)\n",
    "print()"
   ],
   "metadata": {
    "collapsed": false,
    "ExecuteTime": {
     "end_time": "2024-02-23T03:59:04.905609Z",
     "start_time": "2024-02-23T03:59:04.900433Z"
    }
   },
   "id": "b5c76957b5c98eea",
   "execution_count": 12
  },
  {
   "cell_type": "code",
   "outputs": [],
   "source": [],
   "metadata": {
    "collapsed": false
   },
   "id": "6338e8e119d41a87"
  },
  {
   "cell_type": "markdown",
   "source": [],
   "metadata": {
    "collapsed": false
   },
   "id": "d117b5e81b9cf2b9"
  }
 ],
 "metadata": {
  "kernelspec": {
   "display_name": "Python 3",
   "language": "python",
   "name": "python3"
  },
  "language_info": {
   "codemirror_mode": {
    "name": "ipython",
    "version": 2
   },
   "file_extension": ".py",
   "mimetype": "text/x-python",
   "name": "python",
   "nbconvert_exporter": "python",
   "pygments_lexer": "ipython2",
   "version": "2.7.6"
  }
 },
 "nbformat": 4,
 "nbformat_minor": 5
}
